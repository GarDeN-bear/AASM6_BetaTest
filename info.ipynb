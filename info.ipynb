{
 "cells": [
  {
   "cell_type": "code",
   "execution_count": 1,
   "metadata": {},
   "outputs": [],
   "source": [
    "from AASM6 import *\n",
    "import numpy as np  #pip install numpy"
   ]
  },
  {
   "cell_type": "code",
   "execution_count": 2,
   "metadata": {},
   "outputs": [
    {
     "name": "stdout",
     "output_type": "stream",
     "text": [
      "Cyalf_ConCil:\n",
      "M = 1\n",
      "lambda_nos = 2\n",
      "lambda_cil = 1\n",
      "Result = 0.03836999690921022\n",
      "x1_Min = -0.800000011920929\n",
      "x1_Value = 0.0\n",
      "x1_Max = 2.5999999046325684\n",
      "x2_Min = 0.0\n",
      "x2_Value = 0.5\n",
      "x2_Max = 4.0\n",
      "\n"
     ]
    }
   ],
   "source": [
    "print('Cyalf_ConCil:')\n",
    "M = 1\n",
    "lambda_nos = 2\n",
    "lambda_cil = 1\n",
    "Cyalf_ConCil = get_Cyalf_ConCil(\n",
    "    M=M,\n",
    "    lambda_nos=lambda_nos,\n",
    "    lambda_cil=lambda_cil\n",
    ")\n",
    "print(f'M = {M}')\n",
    "print(f'lambda_nos = {lambda_nos}')\n",
    "print(f'lambda_cil = {lambda_cil}')\n",
    "print('Result =', np.deg2rad(Cyalf_ConCil['Result']))\n",
    "print('x1_Min =', Cyalf_ConCil['x1']['Min'])\n",
    "print('x1_Value =', Cyalf_ConCil['x1']['Value'])\n",
    "print('x1_Max =', Cyalf_ConCil['x1']['Max'])\n",
    "print('x2_Min =', Cyalf_ConCil['x2']['Min'])\n",
    "print('x2_Value =', Cyalf_ConCil['x2']['Value'])\n",
    "print('x2_Max =', Cyalf_ConCil['x2']['Max'])\n",
    "print()"
   ]
  },
  {
   "cell_type": "code",
   "execution_count": null,
   "metadata": {},
   "outputs": [],
   "source": []
  }
 ],
 "metadata": {
  "kernelspec": {
   "display_name": "Python 3.10.7 64-bit (system)",
   "language": "python",
   "name": "python3"
  },
  "language_info": {
   "codemirror_mode": {
    "name": "ipython",
    "version": 3
   },
   "file_extension": ".py",
   "mimetype": "text/x-python",
   "name": "python",
   "nbconvert_exporter": "python",
   "pygments_lexer": "ipython3",
   "version": "3.10.7"
  },
  "orig_nbformat": 4,
  "vscode": {
   "interpreter": {
    "hash": "f6a3a25c74cd0da2192a41ef485804de5be3e8bfabdab7b7d3444c62efa2594c"
   }
  }
 },
 "nbformat": 4,
 "nbformat_minor": 2
}
