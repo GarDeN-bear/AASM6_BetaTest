{
 "cells": [
  {
   "cell_type": "code",
   "execution_count": 1,
   "metadata": {},
   "outputs": [],
   "source": [
    "import numpy as np\n",
    "from AASM6 import *\n"
   ]
  },
  {
   "cell_type": "markdown",
   "metadata": {},
   "source": [
    "# Геометрия и массовые параметры блоков\n"
   ]
  },
  {
   "cell_type": "code",
   "execution_count": 2,
   "metadata": {},
   "outputs": [
    {
     "name": "stdout",
     "output_type": "stream",
     "text": [
      "l_sum = 2.9\n",
      "110.7 69.2 39.2 137.0 167.0\n"
     ]
    }
   ],
   "source": [
    "d = 239e-3  # мидель\n",
    "F_m = np.pi * d**2 / 4  # площадь миделя\n",
    "\n",
    "# Длины блоков\n",
    "l_gc = 365e-3\n",
    "l_rb = 168e-3\n",
    "l_ab = 350e-3\n",
    "l_bc = 483e-3\n",
    "l_du_1 = 888e-3\n",
    "l_du_0 = 646e-3\n",
    "l_du = l_du_1 + l_du_0\n",
    "l_sum = l_gc + l_rb + l_ab + l_bc + l_du_0 + l_du_1\n",
    "print(\"l_sum =\", l_sum)\n",
    "# Объёмы\n",
    "V_gc = 4099357e-9\n",
    "V_rb = 4642727e-9\n",
    "V_ab = 12919525e-9\n",
    "V_bc = 21397844e-9\n",
    "V_du_1 = 39838103e-9\n",
    "V_du_0 = 28981323e-9\n",
    "V_sum_ckeck = V_gc + V_rb + V_ab + V_bc + V_du_0 + V_du_1\n",
    "V_sum = 111878879e-9\n",
    "# Массы\n",
    "m_0 = 167  # стартовая масса ракеты\n",
    "m_gc = 4.5\n",
    "m_rb = 3.7\n",
    "m_ab = 7\n",
    "m_bc = 14.8\n",
    "omega_0 = 56.3\n",
    "omega_1 = 41.5\n",
    "m_pn = 30\n",
    "m_kdu = m_0 - m_pn - omega_0 - omega_1\n",
    "m_sum_ckeck = omega_0 + omega_1 + m_kdu + m_pn\n",
    "m_du = omega_0 + omega_1 + m_kdu\n",
    "m_du_0 = m_kdu + omega_1 + m_pn\n",
    "m_du_1 = m_kdu + m_pn\n",
    "print(m_du_0, m_du_1, m_kdu, m_du, m_sum_ckeck)\n"
   ]
  },
  {
   "cell_type": "code",
   "execution_count": 3,
   "metadata": {},
   "outputs": [
    {
     "name": "stdout",
     "output_type": "stream",
     "text": [
      "x_gc_nos = 0.258\n",
      "x_rb_nos = 0.45199999999999996\n",
      "x_ab_nos = 0.7185\n",
      "x_bc_nos = 1.1255\n",
      "x_kdu_nos = 2.133\n",
      "x_omega_1_nos = 1.81\n",
      "x_omega_0_nos = 2.577\n"
     ]
    }
   ],
   "source": [
    "# центры тяжести отсеков\n",
    "x_gc_nos = 0.258\n",
    "x_rb = 0.087\n",
    "x_ab = 0.1855\n",
    "x_bc = 0.2425\n",
    "x_kdu = 0.767\n",
    "x_omega_1 = 0.444\n",
    "x_omega_0 = 0.323\n",
    "x_rb_nos = l_gc + x_rb\n",
    "x_ab_nos = l_gc + l_rb + x_ab\n",
    "x_bc_nos = l_gc + l_rb + l_ab + x_bc\n",
    "x_kdu_nos = l_gc + l_rb + l_ab + l_bc + x_kdu\n",
    "x_omega_1_nos = l_gc + l_rb + l_ab + l_bc + x_omega_1\n",
    "x_omega_0_nos = l_gc + l_rb + l_ab + l_bc + l_du_1 + x_omega_0\n",
    "print(\"x_gc_nos =\", x_gc_nos)\n",
    "print(\"x_rb_nos =\", x_rb_nos)\n",
    "print(\"x_ab_nos =\", x_ab_nos)\n",
    "print(\"x_bc_nos =\", x_bc_nos)\n",
    "print(\"x_kdu_nos =\", x_kdu_nos)\n",
    "print(\"x_omega_1_nos =\", x_omega_1_nos)\n",
    "print(\"x_omega_0_nos =\", x_omega_0_nos)\n"
   ]
  },
  {
   "cell_type": "code",
   "execution_count": 4,
   "metadata": {},
   "outputs": [
    {
     "name": "stdout",
     "output_type": "stream",
     "text": [
      "lambda_mr = 1492.685674835909\n",
      "lambda_gc = 1097.7331322936745\n",
      "lambda_rb = 796.94541591612\n",
      "lambda_ab = 541.8155853253119\n",
      "lambda_bc = 691.6584680213577\n",
      "lambda_du = 1990.7169815685472\n",
      "lambda_check = 1023.7739166250024\n"
     ]
    }
   ],
   "source": [
    "# плотности отсеков\n",
    "lambda_mr = m_0 / V_sum\n",
    "lambda_gc = m_gc / V_gc\n",
    "lambda_rb = m_rb / V_rb\n",
    "lambda_ab = m_ab / V_ab\n",
    "lambda_bc = m_bc / V_bc\n",
    "lambda_du = m_du / (V_du_0 + V_du_1)\n",
    "lambda_check = (lambda_gc + lambda_rb + lambda_ab + lambda_bc + lambda_du) / 5\n",
    "print(\"lambda_mr =\", lambda_mr)\n",
    "print(\"lambda_gc =\", lambda_gc)\n",
    "print(\"lambda_rb =\", lambda_rb)\n",
    "print(\"lambda_ab =\", lambda_ab)\n",
    "print(\"lambda_bc =\", lambda_bc)\n",
    "print(\"lambda_du =\", lambda_du)\n",
    "print(\"lambda_check =\", lambda_check)\n"
   ]
  },
  {
   "cell_type": "code",
   "execution_count": 5,
   "metadata": {},
   "outputs": [
    {
     "name": "stdout",
     "output_type": "stream",
     "text": [
      "x_tk = 1.562628612716763\n",
      "x_tst = 1.966071856287425\n",
      "x_tm = 1.65536495031617\n"
     ]
    }
   ],
   "source": [
    "# центры тяжеести ракеты без топлива, в начале стартового участка, в начале маршевого участка\n",
    "x_tk = (m_gc * x_gc_nos + m_rb * x_rb_nos + m_ab * x_ab_nos + m_bc * x_bc_nos +\n",
    "        m_kdu * x_kdu_nos) / (m_gc + m_rb + m_ab + m_bc + m_kdu)\n",
    "print(\"x_tk =\", x_tk)\n",
    "x_tst = (m_gc * x_gc_nos + m_rb * x_rb_nos + m_ab * x_ab_nos + m_bc * x_bc_nos +\n",
    "         m_kdu * x_kdu_nos + omega_0 * x_omega_0_nos + omega_1 * x_omega_1_nos) / (m_gc + m_rb + m_ab + m_bc + m_kdu + omega_0 + omega_1)\n",
    "print(\"x_tst =\", x_tst)\n",
    "x_tm = (m_gc * x_gc_nos + m_rb * x_rb_nos + m_ab * x_ab_nos + m_bc * x_bc_nos +\n",
    "        m_kdu * x_kdu_nos + omega_1 * x_omega_1_nos) / (m_gc + m_rb + m_ab + m_bc + m_kdu + omega_1)\n",
    "print(\"x_tm =\", x_tm)\n"
   ]
  },
  {
   "cell_type": "code",
   "execution_count": 6,
   "metadata": {},
   "outputs": [
    {
     "name": "stdout",
     "output_type": "stream",
     "text": [
      "Delta_x_st = 0.31070690597125505\n",
      "Delta_x_m = 0.09273633759940703\n",
      "Delta_x = 0.4034432435706621\n"
     ]
    },
    {
     "data": {
      "text/plain": [
       "0.13911835985195245"
      ]
     },
     "execution_count": 6,
     "metadata": {},
     "output_type": "execute_result"
    }
   ],
   "source": [
    "# разбежка ЦТ на старте, марше и полная\n",
    "Delta_x_st = x_tst - x_tm\n",
    "print(\"Delta_x_st =\", Delta_x_st)\n",
    "Delta_x_m = x_tm - x_tk\n",
    "print(\"Delta_x_m =\", Delta_x_m)\n",
    "Delta_x = x_tst - x_tk\n",
    "print(\"Delta_x =\", Delta_x)\n",
    "Delta_x/l_sum\n"
   ]
  },
  {
   "cell_type": "code",
   "execution_count": 7,
   "metadata": {},
   "outputs": [
    {
     "name": "stdout",
     "output_type": "stream",
     "text": [
      "I_gc_st = 13.128792598085266\n",
      "I_gc_m = 8.786829619674505\n",
      "I_gc_k = 7.659251177036696\n",
      "I_rb_st = 8.481930268206103\n",
      "I_rb_m = 5.357922653502923\n",
      "I_rb_k = 4.563934886925098\n",
      "I_ab_st = 10.895048756203163\n",
      "I_ab_m = 6.144011545916438\n",
      "I_ab_k = 4.987871803649887\n",
      "I_bc_st = 10.457103474620817\n",
      "I_bc_m = 4.15520161048865\n",
      "I_bc_k = 2.828005076024091\n",
      "I_kdu_st = 1.0923082024023818\n",
      "I_kdu_m = 8.94290143490981\n",
      "I_kdu_k = 12.75268196171105\n",
      "I_du_st = 23.116211790609203\n",
      "I_du_m = 9.935249376424714\n",
      "I_du_k = 12.75268196171105\n"
     ]
    }
   ],
   "source": [
    "# моменты инерции в начале стартового участка и в конце маршевого участка\n",
    "# отсек ГЧ\n",
    "I_gc_st = m_gc * (x_gc_nos - x_tst)**2\n",
    "I_gc_m = m_gc * (x_gc_nos - x_tm)**2\n",
    "I_gc_k = m_gc * (x_gc_nos - x_tk)**2\n",
    "print(\"I_gc_st =\", I_gc_st)\n",
    "print(\"I_gc_m =\", I_gc_m)\n",
    "print(\"I_gc_k =\", I_gc_k)\n",
    "# отсек РБ\n",
    "I_rb_st = m_rb * (x_rb_nos - x_tst)**2\n",
    "I_rb_m = m_rb * (x_rb_nos - x_tm)**2\n",
    "I_rb_k = m_rb * (x_rb_nos - x_tk)**2\n",
    "print(\"I_rb_st =\", I_rb_st)\n",
    "print(\"I_rb_m =\", I_rb_m)\n",
    "print(\"I_rb_k =\", I_rb_k)\n",
    "# отсек АБ\n",
    "I_ab_st = m_ab * (x_ab_nos - x_tst)**2\n",
    "I_ab_m = m_ab * (x_ab_nos - x_tm)**2\n",
    "I_ab_k = m_ab * (x_ab_nos - x_tk)**2\n",
    "print(\"I_ab_st =\", I_ab_st)\n",
    "print(\"I_ab_m =\", I_ab_m)\n",
    "print(\"I_ab_k =\", I_ab_k)\n",
    "# отсек БЧ\n",
    "I_bc_st = m_bc * (x_bc_nos - x_tst)**2\n",
    "I_bc_m = m_bc * (x_bc_nos - x_tm)**2\n",
    "I_bc_k = m_bc * (x_bc_nos - x_tk)**2\n",
    "print(\"I_bc_st =\", I_bc_st)\n",
    "print(\"I_bc_m =\", I_bc_m)\n",
    "print(\"I_bc_k =\", I_bc_k)\n",
    "# отсек ДУ для конструкции и топлива\n",
    "I_kdu_st = m_kdu * (x_kdu_nos - x_tst)**2\n",
    "I_kdu_m = m_kdu * (x_kdu_nos - x_tm)**2\n",
    "I_kdu_k = m_kdu * (x_kdu_nos - x_tk)**2\n",
    "print(\"I_kdu_st =\", I_kdu_st)\n",
    "print(\"I_kdu_m =\", I_kdu_m)\n",
    "print(\"I_kdu_k =\", I_kdu_k)\n",
    "I_du_st = I_kdu_st + omega_0 * \\\n",
    "    (x_omega_0_nos - x_tst)**2 + omega_1 * (x_omega_1_nos - x_tst)**2\n",
    "I_du_m = I_kdu_m + omega_1 * (x_omega_1_nos - x_tm)**2\n",
    "I_du_k = I_kdu_k\n",
    "print(\"I_du_st =\", I_du_st)\n",
    "print(\"I_du_m =\", I_du_m)\n",
    "print(\"I_du_k =\", I_du_k)\n"
   ]
  },
  {
   "cell_type": "code",
   "execution_count": 8,
   "metadata": {},
   "outputs": [
    {
     "name": "stdout",
     "output_type": "stream",
     "text": [
      "I_z_pust = 32.791744905346825\n",
      "I_z_m = 34.37921480600723\n",
      "I_z_poln = 66.07908688772456\n"
     ]
    }
   ],
   "source": [
    "# моменты инерции планера без топлива, в начале маршевого участка, с топливом\n",
    "I_z_pust = I_gc_k + I_rb_k + I_ab_k + I_bc_k + I_du_k\n",
    "print(\"I_z_pust =\", I_z_pust)\n",
    "I_z_m = I_gc_m + I_rb_m + I_ab_m + I_bc_m + I_du_m\n",
    "print(\"I_z_m =\", I_z_m)\n",
    "I_z_poln = I_gc_st + I_rb_st + I_ab_st + I_bc_st + I_du_st\n",
    "print(\"I_z_poln =\", I_z_poln)\n"
   ]
  },
  {
   "cell_type": "markdown",
   "metadata": {},
   "source": [
    "# Выбор геометрии крыла\n"
   ]
  },
  {
   "cell_type": "code",
   "execution_count": 9,
   "metadata": {},
   "outputs": [
    {
     "name": "stdout",
     "output_type": "stream",
     "text": [
      "S_kr = 0.4517053222818481\n",
      "l_kr = 0.9017037097114143\n",
      "l_c_kr = 0.6627037097114143\n",
      "eta_c_kr = 2.6903762465655943\n",
      "lambda_c_kr = 1.5414372851776903\n",
      "b_A_kr = 0.5487202031334809\n",
      "z_A_kr = 0.18523370780893395\n",
      "b_0_kr = 0.7688946361880278\n",
      "b_b_kr = 0.6268532925187772\n",
      "b_k_kr = 0.23299837460243267\n",
      "c_kr = 0.015377892723760556\n",
      "cc_kr = 0.028025016458196182\n",
      "chi_pk_kr = 49.925952246662874\n",
      "chi_05_kr = 30.72366133756706\n"
     ]
    }
   ],
   "source": [
    "S_f = np.pi*d**2/4\n",
    "lambda_r = l_sum / d\n",
    "n_y = 16\n",
    "g = 9.82\n",
    "c_y = 0.3\n",
    "v_sr = 766\n",
    "rho = 0.66\n",
    "S_kr = n_y * m_0 * g / (c_y * rho * v_sr**2 / 2)\n",
    "print(\"S_kr =\", S_kr)\n",
    "lambda_kr = 1.8\n",
    "eta_kr = 3.3\n",
    "chi_z_kr = np.radians(0)\n",
    "\n",
    "\n",
    "# get_geometric_parameters_aerodynamic_surface\n",
    "def get_g_pm_ADS(S_ads, lambda_ads, eta_ads, chi_z_ads):\n",
    "    l_ads = (S_ads * lambda_ads)**0.5\n",
    "\n",
    "    l_c_ads = l_ads - d\n",
    "\n",
    "    S_c_ads = S_ads*(1 - (eta_ads - 1) / (eta_ads + 1)\n",
    "                     * d/l_ads) * (1 - d/l_ads)\n",
    "\n",
    "    eta_c_ads = eta_ads - d/l_ads*(eta_ads - 1)\n",
    "\n",
    "    lambda_c_ads = lambda_ads * (1 - d/l_ads) / \\\n",
    "        (1 - (eta_ads - 1) / (eta_ads + 1) * d/l_ads)\n",
    "\n",
    "    b_A_ads = 4/3 * S_ads / l_ads * (1 - eta_ads / (eta_ads + 1)**2)\n",
    "\n",
    "    z_A_ads = l_ads / 6 * (eta_ads + 2) / (eta_ads + 1)\n",
    "\n",
    "    b_0_ads = S_ads / l_ads * 2 * eta_ads / (eta_ads + 1)\n",
    "\n",
    "    b_b_ads = b_0_ads * (1 - (eta_ads - 1) / eta_ads * d / l_ads)\n",
    "\n",
    "    b_k_ads = b_0_ads / eta_ads\n",
    "\n",
    "    c_ads = 0.02*b_0_ads\n",
    "\n",
    "    cc_ads = c_ads / b_A_ads\n",
    "\n",
    "    chi_pk_ads = np.arctan((b_0_ads - b_k_ads) / (l_ads/2))\n",
    "\n",
    "    chi_05_ads = np.arctan(np.tan(chi_pk_ads) - 2 /\n",
    "                           lambda_ads * (eta_ads - 1) / (eta_ads + 1))\n",
    "\n",
    "    return [l_ads, l_c_ads, S_c_ads, eta_c_ads, lambda_c_ads, b_A_ads, z_A_ads,\n",
    "            b_0_ads, b_b_ads, b_k_ads, c_ads, cc_ads, chi_pk_ads, chi_05_ads]\n",
    "\n",
    "\n",
    "l_kr, l_c_kr, S_c_kr, eta_c_kr, lambda_c_kr, b_A_kr, z_A_kr, b_0_kr, b_b_kr, b_k_kr, c_kr, cc_kr, chi_pk_kr, chi_05_kr = get_g_pm_ADS(\n",
    "    S_kr, lambda_kr, eta_kr, chi_z_kr)\n",
    "\n",
    "print(\"l_kr =\", l_kr)\n",
    "print(\"l_c_kr =\", l_c_kr)\n",
    "print(\"eta_c_kr =\", eta_c_kr)\n",
    "print(\"lambda_c_kr =\", lambda_c_kr)\n",
    "print(\"b_A_kr =\", b_A_kr)\n",
    "print(\"z_A_kr =\", z_A_kr)\n",
    "print(\"b_0_kr =\", b_0_kr)\n",
    "print(\"b_b_kr =\", b_b_kr)\n",
    "print(\"b_k_kr =\", b_k_kr)\n",
    "print(\"c_kr =\", c_kr)\n",
    "print(\"cc_kr =\", cc_kr)\n",
    "print(\"chi_pk_kr =\", np.degrees(chi_pk_kr))\n",
    "print(\"chi_05_kr =\", np.degrees(chi_05_kr))\n"
   ]
  },
  {
   "cell_type": "markdown",
   "metadata": {},
   "source": [
    "# Выбор геометрии оперения\n"
   ]
  },
  {
   "cell_type": "code",
   "execution_count": 10,
   "metadata": {},
   "outputs": [
    {
     "name": "stdout",
     "output_type": "stream",
     "text": [
      "S_op = 0.07904843139932341\n",
      "l_op = 0.3443437920145869\n",
      "l_c_op = 0.10534379201458693\n",
      "eta_c_op = 1.3671114547409913\n",
      "lambda_c_op = 0.6203534759729521\n",
      "b_A_op = 0.2403232715101805\n",
      "z_A_op = 0.07532520450319088\n",
      "b_0_op = 0.31564847601337137\n",
      "b_b_op = 0.19614847601337135\n",
      "b_k_op = 0.14347658000607788\n",
      "c_op = 0.006312969520267428\n",
      "cc_op = 0.026268656716417912\n",
      "chi_pk_op = 45.00000000000001\n",
      "chi_05_op = 26.565051177078\n"
     ]
    }
   ],
   "source": [
    "S_op = 0.175 * S_kr\n",
    "print(\"S_op =\", S_op)\n",
    "lambda_op = 1.5\n",
    "eta_op = 2.2\n",
    "chi_z_op = np.radians(0)\n",
    "l_op, l_c_op, S_c_op, eta_c_op, lambda_c_op, b_A_op, z_A_op, b_0_op, b_b_op, b_k_op, c_op, cc_op, chi_pk_op, chi_05_op = get_g_pm_ADS(\n",
    "    S_op, lambda_op, eta_op, chi_z_op)\n",
    "\n",
    "print(\"l_op =\", l_op)\n",
    "print(\"l_c_op =\", l_c_op)\n",
    "print(\"eta_c_op =\", eta_c_op)\n",
    "print(\"lambda_c_op =\", lambda_c_op)\n",
    "print(\"b_A_op =\", b_A_op)\n",
    "print(\"z_A_op =\", z_A_op)\n",
    "print(\"b_0_op =\", b_0_op)\n",
    "print(\"b_b_op =\", b_b_op)\n",
    "print(\"b_k_op =\", b_k_op)\n",
    "print(\"c_op =\", c_op)\n",
    "print(\"cc_op =\", cc_op)\n",
    "print(\"chi_pk_op =\", np.degrees(chi_pk_op))\n",
    "print(\"chi_05_op =\", np.degrees(chi_05_op))\n"
   ]
  },
  {
   "cell_type": "markdown",
   "metadata": {},
   "source": [
    "# Рассчёт подъёмной силы\n"
   ]
  },
  {
   "cell_type": "code",
   "execution_count": 11,
   "metadata": {},
   "outputs": [],
   "source": [
    "import scipy.integrate as integrate\n",
    "from scipy import optimize\n"
   ]
  },
  {
   "cell_type": "markdown",
   "metadata": {},
   "source": [
    "## Функции расчёта коэффициентов интерференции\n"
   ]
  },
  {
   "cell_type": "code",
   "execution_count": 12,
   "metadata": {},
   "outputs": [],
   "source": [
    "def DD(l):\n",
    "    return d / l\n",
    "\n",
    "# коэффициенты интерференции\n",
    "\n",
    "\n",
    "def K_aazv(l, eta_c):\n",
    "    return 1 + 3 * DD(l) - DD(l)*(1 - DD(l)) / eta_c\n",
    "\n",
    "\n",
    "def k_aazv(l, eta_c):\n",
    "    return (1 + 0.41*DD(l))**2 * (1 + 3 * DD(l) - 1 / eta_c * (DD(l)*(1-DD(l)))) / (1 + DD(l))**2\n",
    "\n",
    "\n",
    "# кинематическая вязкость воздуха\n",
    "nu = 15.06e-6\n",
    "\n",
    "# Относительная толщина вытеснения\n",
    "\n",
    "\n",
    "def deltadelta_turb(V, M, L_1):\n",
    "    return 0.093 * L_1 / d * (1 + 0.4 * M + 0.147 * M**2 - 0.006 * M**3) / (V * L_1 / nu) ** (1/5)\n",
    "\n",
    "# Учет влияния пограничного слоя\n",
    "\n",
    "\n",
    "def kappa_p_s(V, M, l, eta_c, L_1):\n",
    "    part_1 = 2 * DD(l)**2 * deltadelta_turb(V, M, L_1) / (1 - DD(l)**2)\n",
    "    part_2 = DD(l) * (eta_c - 1) / ((1 - DD(l)) * (eta_c + 1)) * \\\n",
    "        deltadelta_turb(V, M, L_1)\n",
    "    return (1 - part_1) * (1 - part_2)\n",
    "\n",
    "\n",
    "v = np.array([10, 921, 945])\n",
    "M = v / 340\n",
    "\n",
    "# Учет влияния передней части корпуса\n",
    "\n",
    "\n",
    "def kappa_nos(L_1):\n",
    "    return 0.6 + 0.4 * (1 - np.exp(-0.5 * L_1 / d))\n",
    "\n",
    "\n",
    "def LL_hv(M, L_xv):\n",
    "    return L_xv / (np.pi / 2 * d * np.sqrt(M**2 - 1))\n",
    "\n",
    "\n",
    "def bb_b(M, b_b):\n",
    "    return b_b / (np.pi / 2 * d * np.sqrt(M**2 - 1))\n",
    "\n",
    "\n",
    "def c(l, eta_c):\n",
    "    return (4 + 1 / eta_c) * (1 + 8 * DD(l)**2)\n",
    "\n",
    "# Интеграл вероятности Лапласа-Гаусса\n",
    "\n",
    "\n",
    "def Fi(x):\n",
    "    res = integrate.quad(lambda t: np.exp(-t**2 / 2), 0, x)\n",
    "    return 2 / (2 * np.pi)**0.5 * res[0]\n",
    "\n",
    "\n",
    "def F(M, l, eta_c, b_b, L_hv):\n",
    "    return 1 - np.sqrt(np.pi) / (2 * bb_b(M, b_b) * np.sqrt(c(l, eta_c))) * (Fi((bb_b(M, b_b) + LL_hv(M, L_hv)) * np.sqrt(2 * c(l, eta_c))) - Fi(LL_hv(M, L_hv)*np.sqrt(2*c(l, eta_c))))\n",
    "\n",
    "\n",
    "# коэффициенты интерференции по углу атаки\n",
    "def K_aa(v, M, l, eta_c, b_b, L_hv, L_1):\n",
    "    if M >= 1:\n",
    "        return (k_aazv(l, eta_c) + (K_aazv(l, eta_c) - k_aazv(l, eta_c)) * F(M, l, eta_c, b_b, L_hv)) * kappa_p_s(v, M, l, eta_c, L_1) * get_kappa_M(M)['Result'] * kappa_nos(L_1)\n",
    "    else:\n",
    "        return K_aazv(l, eta_c) * kappa_p_s(v, M, l, eta_c, L_1) * get_kappa_M(M)['Result'] * kappa_nos(L_1)\n",
    "\n",
    "\n",
    "def k_aa(v, M, l, eta_c, L_1):\n",
    "    return k_aazv(l, eta_c) * kappa_p_s(v, M, l, eta_c, L_1) * get_kappa_M(M)['Result'] * kappa_nos(L_1)\n",
    "\n",
    "\n",
    "def K_delta0zv(v, M, l, eta_c, L_1):\n",
    "    return k_aa(v, M, l, eta_c, L_1)\n",
    "\n",
    "\n",
    "def k_delta0zv(v, M, l, eta_c, L_hv, L_1):\n",
    "    return k_aa(v, M, l, eta_c, L_1)**2 / K_aa(v, M, l, eta_c, L_hv, L_1)\n",
    "\n",
    "\n",
    "def kappa_p_s_delta(v, M, l, eta_c, L_1):\n",
    "    return (1 - DD(l) * (1 + deltadelta_turb(v, M, L_1))) * (1 - (eta_c - 1) / (eta_c + 1 - 2 * DD(l)) * DD(l) * (1 + deltadelta_turb(v, M, L_1))) / ((1 - DD(l)) * (1 - (eta_c - 1) / (eta_c + 1 - 2 * DD(l)) * DD(l)))\n",
    "\n",
    "\n",
    "def F_delta(M, l, eta_c, b_b, L_hv):\n",
    "    if M > 1:\n",
    "        return F(M, l, eta_c, b_b, L_hv)\n",
    "    else:\n",
    "        return 1\n",
    "\n",
    "\n",
    "def K_delta0(v, M, l, eta_c, b_b, L_hv, L_1):\n",
    "    return (k_delta0zv(v, M, l, eta_c, b_b, L_hv, L_1) + (K_delta0zv(v, M, l, eta_c, L_1) - k_delta0zv(v, M, l, eta_c, b_b, L_hv, L_1)) * F_delta(M, l, eta_c, b_b, L_hv)) * kappa_p_s_delta(v, M, l, eta_c, L_1) * get_kappa_M(M)['Result']\n",
    "\n",
    "\n",
    "def k_delta0(v, M, l, eta_c, b_b, L_hv, L_1):\n",
    "    return k_delta0zv(v, M, l, eta_c, b_b, L_hv, L_1) * kappa_p_s_delta(v, M, l, eta_c, L_1) * get_kappa_M(M)['Result']\n",
    "\n",
    "\n",
    "def F_1(M, l, eta_c, b_b, L_hv):\n",
    "    return 1 - 1 / (c(l, eta_c) * bb_b(M, b_b)**2) * (np.exp(-c(l, eta_c) * LL_hv(M, L_hv)**2) - np.exp(-c(l, eta_c) * (bb_b(M, b_b) + LL_hv(M, L_hv))**2)) + np.sqrt(np.pi) / (bb_b(M, b_b) * np.sqrt(c(l, eta_c))) * Fi(LL_hv(M, L_hv) * np.sqrt(2 * c(l, eta_c)))\n"
   ]
  },
  {
   "cell_type": "code",
   "execution_count": 13,
   "metadata": {},
   "outputs": [
    {
     "data": {
      "text/plain": [
       "0.9999999942299486"
      ]
     },
     "execution_count": 13,
     "metadata": {},
     "output_type": "execute_result"
    }
   ],
   "source": [
    "F(2, 1, 2, 1, 1)\n"
   ]
  },
  {
   "cell_type": "markdown",
   "metadata": {},
   "source": [
    "## Производная коэффициента подъёмной силы ЛА по углу атаки\n"
   ]
  },
  {
   "cell_type": "code",
   "execution_count": 18,
   "metadata": {},
   "outputs": [
    {
     "name": "stdout",
     "output_type": "stream",
     "text": [
      "lambda_nos = 1.5271966527196652\n",
      "lambda_cil = 10.606694560669457\n",
      "x_b_op = 0.4085898139896676\n",
      "x_b_kr = 2.250605363811972\n",
      "L_1_op = 0.5066640519963532\n",
      "L_1_kr = 2.5640320100713603\n",
      "L_hv_op = 2.3933359480036467\n",
      "L_hv_kr = 0.33596798992863963\n",
      "[1.3380446200076208, 1.2670360429002248, 1.2454108804463655]\n"
     ]
    }
   ],
   "source": [
    "lambda_nos = l_gc / d\n",
    "lambda_cil = (l_sum - l_gc) / d\n",
    "print(\"lambda_nos =\", lambda_nos)\n",
    "print(\"lambda_cil =\", lambda_cil)\n",
    "x_b_op = l_gc + l_rb - (b_k_op / 2 + np.tan(chi_pk_op)\n",
    "                        * l_op / 2 - d / 2)  # расстояние до консоли\n",
    "print(\"x_b_op =\", x_b_op)\n",
    "x_b_kr = l_sum - (b_k_kr + np.tan(chi_pk_kr) * l_kr /\n",
    "                  2 - d / 2)  # расстояние до консоли\n",
    "print(\"x_b_kr =\", x_b_kr)\n",
    "# Расстояние от середины носика корпуса до середины бортовой хорды консолей\n",
    "L_1_op = x_b_op + b_b_op / 2\n",
    "print(\"L_1_op =\", L_1_op)\n",
    "L_1_kr = x_b_kr + b_b_kr / 2  # расстояние до консоли\n",
    "print(\"L_1_kr =\", L_1_kr)\n",
    "# Расстояние от конца бортовой хорды до кормового среза корпуса\n",
    "L_hv_op = l_sum - L_1_op\n",
    "print(\"L_hv_op =\", L_hv_op)\n",
    "# Расстояние от конца бортовой хорды до кормового среза корпуса\n",
    "L_hv_kr = l_sum - L_1_kr\n",
    "print(\"L_hv_kr =\", L_hv_kr)\n",
    "# коэффициент подъёмной силы фюзеляжа\n",
    "\n",
    "\n",
    "class rocket():\n",
    "    def set_geom_parameters(self, nos_type):\n",
    "        self.nos_type = nos_type\n",
    "\n",
    "\n",
    "class Fuselage():\n",
    "    def get_parameters(self):\n",
    "        Cyalf_OgiCil = [get_Cyalf_OgiCil(M[i], lambda_nos, lambda_cil)[\n",
    "            'Result'] for i in range(len(M))]\n",
    "\n",
    "\n",
    "class ADS_I(rocket):\n",
    "    def __init__(self, v, M, lambda_c, cc, chi_05, eta_c, lambda_nos, l, b_b, L_hv, L_1):\n",
    "        self.v = v\n",
    "        self.M = M\n",
    "        self.lambda_c = lambda_c\n",
    "        self.cc = cc\n",
    "        self.chi_05 = chi_05\n",
    "        self.eta_c = eta_c\n",
    "        self.lambda_nos = lambda_nos\n",
    "        self.l = l\n",
    "        self.b_b = b_b\n",
    "        self.L_hv = L_hv\n",
    "        self.L_1 = L_1\n",
    "\n",
    "    def get_parameters(self):\n",
    "\n",
    "        if self.nos_type == \"OgiCil\":\n",
    "            # с_х_нос для оживальной части\n",
    "            self.Cxnos_Par = [get_Cxnos_Par(self.M[i], self.lambda_nos)[\n",
    "                'Result'] for i in range(len(self.M))]\n",
    "            # экивалентное удлинение носовой части конуса\n",
    "            self.lambda_nos_equiv_arr = np.array([])\n",
    "            for i in range(len(self.M)):\n",
    "                lambda_equiv = 0\n",
    "                while lambda_equiv <= 10:\n",
    "                    if get_Cxnos_Con(self.M[i], lambda_equiv)[\"Result\"] - 0.01 <= self.Cxnos_Par[i] <= get_Cxnos_Con(self.M[i], lambda_equiv)[\"Result\"] + 0.01:\n",
    "                        self.lambda_nos_equiv_arr = np.append(\n",
    "                            self.lambda_nos_equiv_arr, lambda_equiv)\n",
    "                        break\n",
    "                    lambda_equiv += 0.001\n",
    "            # поиск коэффициента торможения\n",
    "            self.k_t1 = [get_kM_Con(self.M[i], self.lambda_nos_equiv_arr[i])[\n",
    "                'Result'] for i in range(len(self.M))]\n",
    "        # Поток у оперения\n",
    "\n",
    "        self.M_I = [self.M[i] * np.sqrt(self.k_t1[i])\n",
    "                    for i in range(len(self.M))]\n",
    "        self.v_I = [self.v[i] * np.sqrt(self.k_t1[i])\n",
    "                    for i in range(len(self.M))]\n",
    "        # Коэффициент подьемной силы изолированного крыла\n",
    "        self.Cyalf_IsP = [get_Cyalf_IsP(self.M[i], self.lambda_c, self.cc, self.chi_05, self.eta_c)[\n",
    "            'Result'] for i in range(len(self.M))]\n",
    "        # Коэффициенты интерференции крыла\n",
    "        self.Kaa_I = [K_aa(self.v_I[i], self.M_I[i], self.l, self.eta_c,\n",
    "                           self.b_b, self.L_hv, self.L_1) for i in range(len(self.M))]\n",
    "        self.kaa_I = [k_aa(self.v_I[i], self.M_I[i], self.l,\n",
    "                           self.eta_c, self.L_1) for i in range(len(self.M))]\n",
    "        # Коэффициент подьемной силы оперения\n",
    "        self.Cyalf = [self.Cyalf_IsP[i]*self.kaa_I[i]\n",
    "                      for i in range(len(self.M))]\n",
    "        return self.Cyalf\n",
    "\n",
    "    def get_next_par(self):\n",
    "        print(self.Cyalf)\n",
    "\n",
    "\n",
    "class ADS_II(ADS_I, rocket):\n",
    "    def __init__(self, M, lambda_c, cc, chi_05, eta_c):\n",
    "        self.M = M\n",
    "        self.lambda_c = lambda_c\n",
    "        self.cc = cc\n",
    "        self.chi_05 = chi_05\n",
    "        self.eta_c = eta_c\n",
    "\n",
    "    def get_parameters(self):\n",
    "        # коэффициент подъёмной силы изолированного крыла\n",
    "        self.Cyalf_IsP = [get_Cyalf_IsP(self.M[i], self.lambda_c, self.cc, self.chi_05, self.eta_c)[\n",
    "            'Result'] for i in range(len(self.M))]\n",
    "        return self.Cyalf_IsP\n",
    "\n",
    "\n",
    "plumage = ADS_I(v, M, lambda_c_op, cc_op, chi_05_op, eta_c_op,\n",
    "                lambda_nos, l_op, b_b_op, L_hv_op, L_1_op)\n",
    "plumage.set_geom_parameters('OgiCil')\n",
    "plumage.get_parameters()\n",
    "plumage.get_next_par()\n",
    "wing = ADS_II(M, lambda_c_kr, cc_kr, chi_05_kr, eta_c_kr)\n",
    "\n",
    "# print(res)\n",
    "# print(wing.get_parameters())\n"
   ]
  },
  {
   "cell_type": "code",
   "execution_count": 15,
   "metadata": {},
   "outputs": [
    {
     "data": {
      "text/plain": [
       "1.3997435048038551"
      ]
     },
     "execution_count": 15,
     "metadata": {},
     "output_type": "execute_result"
    }
   ],
   "source": [
    "K_aa(v[2], M[2], l_op, eta_c_op, b_b_op, L_hv_op, L_1_op)\n",
    "k_aa(v[0], M[0], l_op, eta_c_op, L_1_op)\n"
   ]
  },
  {
   "cell_type": "code",
   "execution_count": 16,
   "metadata": {},
   "outputs": [
    {
     "data": {
      "text/plain": [
       "0.5066640519963532"
      ]
     },
     "execution_count": 16,
     "metadata": {},
     "output_type": "execute_result"
    }
   ],
   "source": [
    "L_1_op\n"
   ]
  },
  {
   "cell_type": "code",
   "execution_count": 17,
   "metadata": {},
   "outputs": [
    {
     "data": {
      "text/plain": [
       "0.9573067835824025"
      ]
     },
     "execution_count": 17,
     "metadata": {},
     "output_type": "execute_result"
    }
   ],
   "source": [
    "kappa_p_s(v[2], M[2], l_op, eta_c_op, L_1_op)\n"
   ]
  },
  {
   "cell_type": "code",
   "execution_count": null,
   "metadata": {},
   "outputs": [],
   "source": []
  }
 ],
 "metadata": {
  "kernelspec": {
   "display_name": "Python 3.9.6 64-bit",
   "language": "python",
   "name": "python3"
  },
  "language_info": {
   "codemirror_mode": {
    "name": "ipython",
    "version": 3
   },
   "file_extension": ".py",
   "mimetype": "text/x-python",
   "name": "python",
   "nbconvert_exporter": "python",
   "pygments_lexer": "ipython3",
   "version": "3.9.6"
  },
  "orig_nbformat": 4,
  "vscode": {
   "interpreter": {
    "hash": "8f8cf99212f81ad0c4765861267244807ee1c18364846cdce387b28994a977ba"
   }
  }
 },
 "nbformat": 4,
 "nbformat_minor": 2
}
