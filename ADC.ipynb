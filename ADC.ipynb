{
 "cells": [
  {
   "cell_type": "code",
   "execution_count": 2,
   "metadata": {},
   "outputs": [],
   "source": [
    "import numpy as np"
   ]
  },
  {
   "cell_type": "markdown",
   "metadata": {},
   "source": [
    "# Геометрия и массовые параметры блоков"
   ]
  },
  {
   "cell_type": "code",
   "execution_count": 6,
   "metadata": {},
   "outputs": [],
   "source": [
    "d = 239e-3  # мидель\n",
    "F_m = np.pi * d**2 / 4  # площадь миделя\n",
    "\n",
    "# Длины блоков\n",
    "l_gc = 365e-3\n",
    "l_rb = 168e-3\n",
    "l_ap = 350e-3\n",
    "l_bc = 483e-3\n",
    "l_du_march = 888e-3\n",
    "l_du_start = 646e-3\n",
    "l_sum = l_gc + l_rb + l_ap + l_bc + l_du_start + l_du_march\n",
    "# Объёмы\n",
    "V_gc = 4099357e-9\n",
    "V_rb = 4642727e-9\n",
    "V_ap = 12919525e-9\n",
    "V_bc = 21397844e-9\n",
    "V_du_march = 39838103e-9\n",
    "V_du_start = 28981323e-9\n",
    "V_sum_ckeck = V_gc + V_rb + V_ap + V_bc + V_du_start + V_du_march\n",
    "V_sum = 111878879e-9\n",
    "# Массы\n",
    "m_0 = 167\n"
   ]
  },
  {
   "cell_type": "code",
   "execution_count": null,
   "metadata": {},
   "outputs": [],
   "source": []
  }
 ],
 "metadata": {
  "kernelspec": {
   "display_name": "Python 3.9.6 64-bit",
   "language": "python",
   "name": "python3"
  },
  "language_info": {
   "codemirror_mode": {
    "name": "ipython",
    "version": 3
   },
   "file_extension": ".py",
   "mimetype": "text/x-python",
   "name": "python",
   "nbconvert_exporter": "python",
   "pygments_lexer": "ipython3",
   "version": "3.9.6"
  },
  "orig_nbformat": 4,
  "vscode": {
   "interpreter": {
    "hash": "8f8cf99212f81ad0c4765861267244807ee1c18364846cdce387b28994a977ba"
   }
  }
 },
 "nbformat": 4,
 "nbformat_minor": 2
}
