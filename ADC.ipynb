{
 "cells": [
  {
   "cell_type": "code",
   "execution_count": 18,
   "metadata": {},
   "outputs": [],
   "source": [
    "import numpy as np\n",
    "from AASM6 import *"
   ]
  },
  {
   "cell_type": "markdown",
   "metadata": {},
   "source": [
    "# Геометрия и массовые параметры блоков"
   ]
  },
  {
   "cell_type": "code",
   "execution_count": 19,
   "metadata": {},
   "outputs": [
    {
     "name": "stdout",
     "output_type": "stream",
     "text": [
      "l_sum = 2.9\n",
      "110.7 69.2 39.2 137.0 167.0\n"
     ]
    }
   ],
   "source": [
    "d = 239e-3  # мидель\n",
    "F_m = np.pi * d**2 / 4  # площадь миделя\n",
    "\n",
    "# Длины блоков\n",
    "l_gc = 365e-3\n",
    "l_rb = 168e-3\n",
    "l_ab = 350e-3\n",
    "l_bc = 483e-3\n",
    "l_du_1 = 888e-3\n",
    "l_du_0 = 646e-3\n",
    "l_du = l_du_1 + l_du_0\n",
    "l_sum = l_gc + l_rb + l_ab + l_bc + l_du_0 + l_du_1\n",
    "print(\"l_sum =\", l_sum)\n",
    "# Объёмы\n",
    "V_gc = 4099357e-9\n",
    "V_rb = 4642727e-9\n",
    "V_ab = 12919525e-9\n",
    "V_bc = 21397844e-9\n",
    "V_du_1 = 39838103e-9\n",
    "V_du_0 = 28981323e-9\n",
    "V_sum_ckeck = V_gc + V_rb + V_ab + V_bc + V_du_0 + V_du_1\n",
    "V_sum = 111878879e-9\n",
    "# Массы\n",
    "m_0 = 167 # стартовая масса ракеты\n",
    "m_gc = 4.5\n",
    "m_rb = 3.7\n",
    "m_ab = 7\n",
    "m_bc = 14.8\n",
    "omega_0 = 56.3\n",
    "omega_1 = 41.5\n",
    "m_pn = 30\n",
    "m_kdu = m_0 - m_pn - omega_0 - omega_1\n",
    "m_sum_ckeck = omega_0 + omega_1 + m_kdu + m_pn\n",
    "m_du = omega_0 + omega_1 + m_kdu\n",
    "m_du_0 = m_kdu + omega_1 + m_pn\n",
    "m_du_1 = m_kdu + m_pn\n",
    "print(m_du_0, m_du_1, m_kdu, m_du, m_sum_ckeck)"
   ]
  },
  {
   "cell_type": "code",
   "execution_count": 20,
   "metadata": {},
   "outputs": [
    {
     "name": "stdout",
     "output_type": "stream",
     "text": [
      "x_gc_nos = 0.258\n",
      "x_rb_nos = 0.45199999999999996\n",
      "x_ab_nos = 0.7185\n",
      "x_bc_nos = 1.1255\n",
      "x_kdu_nos = 2.133\n",
      "x_omega_1_nos = 1.81\n",
      "x_omega_0_nos = 2.577\n"
     ]
    }
   ],
   "source": [
    "# центры тяжести отсеков\n",
    "x_gc_nos = 0.258\n",
    "x_rb = 0.087\n",
    "x_ab = 0.1855\n",
    "x_bc = 0.2425\n",
    "x_kdu = 0.767\n",
    "x_omega_1 = 0.444\n",
    "x_omega_0 = 0.323\n",
    "x_rb_nos = l_gc + x_rb\n",
    "x_ab_nos = l_gc + l_rb + x_ab\n",
    "x_bc_nos = l_gc + l_rb + l_ab + x_bc\n",
    "x_kdu_nos = l_gc + l_rb + l_ab + l_bc + x_kdu\n",
    "x_omega_1_nos = l_gc + l_rb + l_ab + l_bc + x_omega_1\n",
    "x_omega_0_nos = l_gc + l_rb + l_ab + l_bc + l_du_1 + x_omega_0\n",
    "print(\"x_gc_nos =\", x_gc_nos)\n",
    "print(\"x_rb_nos =\", x_rb_nos)\n",
    "print(\"x_ab_nos =\", x_ab_nos)\n",
    "print(\"x_bc_nos =\", x_bc_nos)\n",
    "print(\"x_kdu_nos =\", x_kdu_nos)\n",
    "print(\"x_omega_1_nos =\", x_omega_1_nos)\n",
    "print(\"x_omega_0_nos =\", x_omega_0_nos)"
   ]
  },
  {
   "cell_type": "code",
   "execution_count": 21,
   "metadata": {},
   "outputs": [
    {
     "name": "stdout",
     "output_type": "stream",
     "text": [
      "lambda_mr = 1492.685674835909\n",
      "lambda_gc = 1097.7331322936745\n",
      "lambda_rb = 796.94541591612\n",
      "lambda_ab = 541.8155853253119\n",
      "lambda_bc = 691.6584680213577\n",
      "lambda_du = 1990.7169815685472\n",
      "lambda_check = 1023.7739166250024\n"
     ]
    }
   ],
   "source": [
    "# плотности отсеков\n",
    "lambda_mr = m_0 / V_sum\n",
    "lambda_gc = m_gc / V_gc\n",
    "lambda_rb = m_rb / V_rb\n",
    "lambda_ab = m_ab / V_ab\n",
    "lambda_bc = m_bc / V_bc\n",
    "lambda_du = m_du / (V_du_0 + V_du_1)\n",
    "lambda_check = (lambda_gc + lambda_rb + lambda_ab + lambda_bc + lambda_du) / 5\n",
    "print(\"lambda_mr =\", lambda_mr)\n",
    "print(\"lambda_gc =\", lambda_gc)\n",
    "print(\"lambda_rb =\", lambda_rb)\n",
    "print(\"lambda_ab =\", lambda_ab)\n",
    "print(\"lambda_bc =\", lambda_bc)\n",
    "print(\"lambda_du =\", lambda_du)\n",
    "print(\"lambda_check =\", lambda_check)"
   ]
  },
  {
   "cell_type": "code",
   "execution_count": 22,
   "metadata": {},
   "outputs": [
    {
     "name": "stdout",
     "output_type": "stream",
     "text": [
      "x_tk = 1.562628612716763\n",
      "x_tst = 1.966071856287425\n",
      "x_tm = 1.65536495031617\n"
     ]
    }
   ],
   "source": [
    "# центры тяжеести ракеты без топлива, в начале стартового участка, в начале маршевого участка\n",
    "x_tk = (m_gc * x_gc_nos + m_rb * x_rb_nos + m_ab * x_ab_nos + m_bc * x_bc_nos +\n",
    "        m_kdu * x_kdu_nos) / (m_gc + m_rb + m_ab + m_bc + m_kdu)\n",
    "print(\"x_tk =\", x_tk)\n",
    "x_tst = (m_gc * x_gc_nos + m_rb * x_rb_nos + m_ab * x_ab_nos + m_bc * x_bc_nos +\n",
    "        m_kdu * x_kdu_nos + omega_0 * x_omega_0_nos + omega_1 * x_omega_1_nos) / (m_gc + m_rb + m_ab + m_bc + m_kdu + omega_0 + omega_1)\n",
    "print(\"x_tst =\", x_tst)\n",
    "x_tm = (m_gc * x_gc_nos + m_rb * x_rb_nos + m_ab * x_ab_nos + m_bc * x_bc_nos +\n",
    "        m_kdu * x_kdu_nos + omega_1 * x_omega_1_nos) / (m_gc + m_rb + m_ab + m_bc + m_kdu + omega_1)\n",
    "print(\"x_tm =\", x_tm)"
   ]
  },
  {
   "cell_type": "code",
   "execution_count": 23,
   "metadata": {},
   "outputs": [
    {
     "name": "stdout",
     "output_type": "stream",
     "text": [
      "Delta_x_st = 0.31070690597125505\n",
      "Delta_x_m = 0.09273633759940703\n",
      "Delta_x = 0.4034432435706621\n"
     ]
    },
    {
     "data": {
      "text/plain": [
       "0.13911835985195245"
      ]
     },
     "execution_count": 23,
     "metadata": {},
     "output_type": "execute_result"
    }
   ],
   "source": [
    "# разбежка ЦТ на старте, марше и полная\n",
    "Delta_x_st = x_tst - x_tm\n",
    "print(\"Delta_x_st =\", Delta_x_st)\n",
    "Delta_x_m = x_tm - x_tk\n",
    "print(\"Delta_x_m =\", Delta_x_m)\n",
    "Delta_x = x_tst - x_tk\n",
    "print(\"Delta_x =\", Delta_x)\n",
    "Delta_x/l_sum"
   ]
  },
  {
   "cell_type": "code",
   "execution_count": 24,
   "metadata": {},
   "outputs": [
    {
     "name": "stdout",
     "output_type": "stream",
     "text": [
      "I_gc_st = 13.128792598085266\n",
      "I_gc_m = 8.786829619674505\n",
      "I_gc_k = 7.659251177036696\n",
      "I_rb_st = 8.481930268206103\n",
      "I_rb_m = 5.357922653502923\n",
      "I_rb_k = 4.563934886925098\n",
      "I_ab_st = 10.895048756203163\n",
      "I_ab_m = 6.144011545916438\n",
      "I_ab_k = 4.987871803649887\n",
      "I_bc_st = 10.457103474620817\n",
      "I_bc_m = 4.15520161048865\n",
      "I_bc_k = 2.828005076024091\n",
      "I_kdu_st = 1.0923082024023818\n",
      "I_kdu_m = 8.94290143490981\n",
      "I_kdu_k = 12.75268196171105\n",
      "I_du_st = 23.116211790609203\n",
      "I_du_m = 9.935249376424714\n",
      "I_du_k = 12.75268196171105\n"
     ]
    }
   ],
   "source": [
    "# моменты инерции в начале стартового участка и в конце маршевого участка\n",
    "# отсек ГЧ\n",
    "I_gc_st = m_gc * (x_gc_nos - x_tst)**2\n",
    "I_gc_m = m_gc * (x_gc_nos - x_tm)**2\n",
    "I_gc_k = m_gc * (x_gc_nos - x_tk)**2\n",
    "print(\"I_gc_st =\", I_gc_st)\n",
    "print(\"I_gc_m =\", I_gc_m)\n",
    "print(\"I_gc_k =\", I_gc_k)\n",
    "# отсек РБ\n",
    "I_rb_st = m_rb * (x_rb_nos - x_tst)**2\n",
    "I_rb_m = m_rb * (x_rb_nos - x_tm)**2\n",
    "I_rb_k = m_rb * (x_rb_nos - x_tk)**2\n",
    "print(\"I_rb_st =\", I_rb_st)\n",
    "print(\"I_rb_m =\", I_rb_m)\n",
    "print(\"I_rb_k =\", I_rb_k)\n",
    "# отсек АБ\n",
    "I_ab_st = m_ab * (x_ab_nos - x_tst)**2\n",
    "I_ab_m = m_ab * (x_ab_nos - x_tm)**2\n",
    "I_ab_k = m_ab * (x_ab_nos - x_tk)**2\n",
    "print(\"I_ab_st =\", I_ab_st)\n",
    "print(\"I_ab_m =\", I_ab_m)\n",
    "print(\"I_ab_k =\", I_ab_k)\n",
    "# отсек БЧ\n",
    "I_bc_st = m_bc * (x_bc_nos - x_tst)**2\n",
    "I_bc_m = m_bc * (x_bc_nos - x_tm)**2\n",
    "I_bc_k = m_bc * (x_bc_nos - x_tk)**2\n",
    "print(\"I_bc_st =\", I_bc_st)\n",
    "print(\"I_bc_m =\", I_bc_m)\n",
    "print(\"I_bc_k =\", I_bc_k)\n",
    "# отсек ДУ для конструкции и топлива\n",
    "I_kdu_st = m_kdu * (x_kdu_nos - x_tst)**2\n",
    "I_kdu_m = m_kdu * (x_kdu_nos - x_tm)**2\n",
    "I_kdu_k = m_kdu * (x_kdu_nos - x_tk)**2\n",
    "print(\"I_kdu_st =\", I_kdu_st)\n",
    "print(\"I_kdu_m =\", I_kdu_m)\n",
    "print(\"I_kdu_k =\", I_kdu_k)\n",
    "I_du_st = I_kdu_st + omega_0 * (x_omega_0_nos - x_tst)**2 + omega_1 * (x_omega_1_nos - x_tst)**2\n",
    "I_du_m = I_kdu_m + omega_1 * (x_omega_1_nos - x_tm)**2\n",
    "I_du_k = I_kdu_k\n",
    "print(\"I_du_st =\", I_du_st)\n",
    "print(\"I_du_m =\", I_du_m)\n",
    "print(\"I_du_k =\", I_du_k)"
   ]
  },
  {
   "cell_type": "code",
   "execution_count": 25,
   "metadata": {},
   "outputs": [
    {
     "name": "stdout",
     "output_type": "stream",
     "text": [
      "I_z_pust = 32.791744905346825\n",
      "I_z_m = 34.37921480600723\n",
      "I_z_poln = 66.07908688772456\n"
     ]
    }
   ],
   "source": [
    "# моменты инерции планера без топлива, в начале маршевого участка, с топливом\n",
    "I_z_pust = I_gc_k + I_rb_k + I_ab_k + I_bc_k +I_du_k\n",
    "print(\"I_z_pust =\", I_z_pust)\n",
    "I_z_m = I_gc_m + I_rb_m + I_ab_m + I_bc_m +I_du_m\n",
    "print(\"I_z_m =\", I_z_m)\n",
    "I_z_poln = I_gc_st + I_rb_st + I_ab_st + I_bc_st +I_du_st\n",
    "print(\"I_z_poln =\", I_z_poln)"
   ]
  },
  {
   "cell_type": "markdown",
   "metadata": {},
   "source": [
    "# Выбор геометрии крыла"
   ]
  },
  {
   "cell_type": "code",
   "execution_count": 26,
   "metadata": {},
   "outputs": [
    {
     "name": "stdout",
     "output_type": "stream",
     "text": [
      "S_kr = 0.4517053222818481\n",
      "l_kr = 0.8501344103440097\n",
      "l_kkr = 0.6111344103440097\n",
      "S_kkr = 0.25951063577589994\n",
      "eta_kkr = 4.594339923828705\n",
      "lambda_kkr = 1.4391905996062646\n",
      "chi_05_kr = -3.07711666143099\n",
      "b_A_kr = 0.6216969327345648\n",
      "z_A_kr = 0.16193036387504947\n",
      "b_0_kr = 0.910858296797153\n",
      "b_b_kr = 0.697465439654296\n",
      "b_k_kr = 0.15180971613285885\n",
      "c_kr = 0.01821716593594306\n",
      "b_A_kr = 0.6216969327345648\n"
     ]
    }
   ],
   "source": [
    "S_f = np.pi*d**2/4\n",
    "lambda_r = l_sum / d\n",
    "n_y = 16\n",
    "g = 9.82\n",
    "c_y = 0.3\n",
    "v_sr = 766\n",
    "rho = 0.66\n",
    "S_kr = n_y * m_0 * g / (c_y * rho * v_sr**2 / 2)\n",
    "print(\"S_kr =\", S_kr)\n",
    "lambda_kr = 1.6\n",
    "eta_kr = 6\n",
    "chi_pk_kr = np.radians(40)\n",
    "chi_z_kr = np.radians(0)\n",
    "l_kr = (S_kr * lambda_kr)**0.5\n",
    "print(\"l_kr =\", l_kr)\n",
    "l_c_kr = l_kr - d\n",
    "print(\"l_c_kr =\", l_c_kr)\n",
    "S_c_kr = S_kr*(1 - (eta_kr - 1) / (eta_kr + 1) * d/l_kr) * (1 - d/l_kr)\n",
    "print(\"S_c_kr =\", S_c_kr)\n",
    "eta_c_kr = eta_kr - d/l_kr*(eta_kr - 1)\n",
    "print(\"eta_c_kr =\", eta_c_kr)\n",
    "lambda_c_kr = lambda_kr * (1 - d/l_kr) / \\\n",
    "    (1 - (eta_kr - 1) / (eta_kr + 1) * d/l_kr)\n",
    "print(\"lambda_c_kr =\", lambda_c_kr)\n",
    "chi_05_kr = np.arctan(np.tan(chi_pk_kr) - 2 /\n",
    "                      lambda_kr * (eta_kr - 1) / (eta_kr + 1))\n",
    "print(\"chi_05_kr =\", np.degrees(chi_05_kr))\n",
    "b_A_kr = 4/3 * S_kr / l_kr * (1 - eta_kr / (eta_kr + 1)**2)\n",
    "print(\"b_A_kr =\", b_A_kr)\n",
    "z_A_kr = l_kr / 6 * (eta_kr + 2) / (eta_kr + 1)\n",
    "print(\"z_A_kr =\", z_A_kr)\n",
    "b_0_kr = S_kr / l_kr * 2 * eta_kr / (eta_kr + 1)\n",
    "print(\"b_0_kr =\", b_0_kr)\n",
    "b_b_kr = b_0_kr * (1 - (eta_kr - 1) / eta_kr * d / l_kr)\n",
    "print(\"b_b_kr =\", b_b_kr)\n",
    "b_k_kr = b_0_kr / eta_kr\n",
    "print(\"b_k_kr =\", b_k_kr)\n",
    "c_kr = 0.02*b_0_kr\n",
    "print(\"c_kr =\", c_kr)\n",
    "cc_kr = c_kr / b_A_kr\n",
    "print(\"cc_kr =\", cc_kr)"
   ]
  },
  {
   "cell_type": "markdown",
   "metadata": {},
   "source": [
    "# Выбор геометрии оперения"
   ]
  },
  {
   "cell_type": "code",
   "execution_count": 27,
   "metadata": {},
   "outputs": [
    {
     "name": "stdout",
     "output_type": "stream",
     "text": [
      "S_op = 0.07904843139932341\n",
      "l_op = 0.3556367391579749\n",
      "l_kop = 0.1166367391579749\n",
      "S_kop = 0.013480469979227706\n",
      "eta_kop = 2.6398297239218094\n",
      "lambda_kop = 1.0091731922083071\n",
      "chi_05_op = 16.64121858151915\n",
      "b_A_op = 0.26007448611892714\n",
      "z_A_op = 0.0677403312681857\n",
      "b_0_op = 0.3810393633835445\n",
      "b_b_op = 0.1676465062406874\n",
      "b_k_op = 0.06350656056392408\n",
      "c_op = 0.01524157453534178\n",
      "b_A_op = 0.26007448611892714\n"
     ]
    }
   ],
   "source": [
    "S_op = 0.175 * S_kr\n",
    "print(\"S_op =\", S_op)\n",
    "lambda_op = 1.6\n",
    "eta_op = 6\n",
    "chi_pk_op = np.radians(50)\n",
    "chi_z_op = np.radians(0)\n",
    "l_op = (S_op * lambda_op)**0.5\n",
    "print(\"l_op =\", l_op)\n",
    "l_c_op = l_op - d\n",
    "print(\"l_c_op =\", l_c_op)\n",
    "S_c_op = S_op*(1 - (eta_op - 1) / (eta_op + 1) * d/l_op) * (1 - d/l_op)\n",
    "print(\"S_kop =\", S_c_op)\n",
    "eta_c_op = eta_op - d/l_op*(eta_op - 1)\n",
    "print(\"eta_kop =\", eta_c_op)\n",
    "lambda_c_op = lambda_op * (1 - d/l_op) / \\\n",
    "    (1 - (eta_op - 1) / (eta_op + 1) * d/l_op)\n",
    "print(\"lambda_kop =\", lambda_c_op)\n",
    "chi_05_op = np.arctan(np.tan(chi_pk_op) - 2 /\n",
    "                      lambda_op * (eta_op - 1) / (eta_op + 1))\n",
    "print(\"chi_05_op =\", np.degrees(chi_05_op))\n",
    "b_A_op = 4/3 * S_op / l_op * (1 - eta_op / (eta_op + 1)**2)\n",
    "print(\"b_A_op =\", b_A_op)\n",
    "z_A_op = l_op / 6 * (eta_op + 2) / (eta_op + 1)\n",
    "print(\"z_A_op =\", z_A_op)\n",
    "b_0_op = S_op / l_op * 2 * eta_op / (eta_op + 1)\n",
    "print(\"b_0_op =\", b_0_op)\n",
    "b_b_op = b_0_op * (1 - (eta_op - 1) / eta_op * d / l_op)\n",
    "print(\"b_b_op =\", b_b_op)\n",
    "b_k_op = b_0_op / eta_op\n",
    "print(\"b_k_op =\", b_k_op)\n",
    "c_op = 0.04*b_0_op\n",
    "print(\"c_op =\", c_op)\n",
    "cc_op = c_op / b_A_op\n",
    "print(\"cc_op =\", cc_op)"
   ]
  },
  {
   "cell_type": "markdown",
   "metadata": {},
   "source": [
    "# Рассчёт подъёмной силы "
   ]
  },
  {
   "cell_type": "code",
   "execution_count": 28,
   "metadata": {},
   "outputs": [],
   "source": [
    "import scipy.integrate as integrate"
   ]
  },
  {
   "cell_type": "markdown",
   "metadata": {},
   "source": [
    "## Функции расчёта коэффициентов интерференции"
   ]
  },
  {
   "cell_type": "code",
   "execution_count": 29,
   "metadata": {},
   "outputs": [],
   "source": [
    "def DD(l):\n",
    "    return d / l\n",
    "\n",
    "# коэффициенты интерференции\n",
    "\n",
    "\n",
    "def K_aazv(l, eta_k):\n",
    "    return 1 + 3 * DD(l) - DD(l)*(1 - DD(l)) / eta_k\n",
    "\n",
    "\n",
    "def k_aazv(l, eta_k):\n",
    "    return (1 + 0.41*DD(l))**2 * (1 + 3 * DD(l) - 1 / eta_k * (DD(l)*(1-DD(l)))) / (1 + DD(l))**2\n",
    "\n",
    "\n",
    "# кинематическая вязкость воздуха\n",
    "nu = 15.06e-6\n",
    "\n",
    "# Относительная толщина вытеснения\n",
    "\n",
    "\n",
    "def deltadelta_turb(V, M, L_1):\n",
    "    return 0.093 * L_1 / d * (1 + 0.4 * M + 0.147 * M**2 - 0.006 * M**3) / (V * L_1 / nu) ** (1/5)\n",
    "\n",
    "# Учет влияния пограничного слоя\n",
    "\n",
    "\n",
    "def kappa_p_s(V, M, l_k, eta_k, L_1):\n",
    "    return (1 - (2 * DD(l_k)**2 * deltadelta_turb(V, M, L_1) / (1 - DD(l_k)**2))) * (1 - DD(l_k) * (eta_k - 1) / ((1 - DD(l_k)) * (eta_k + 1) * delta_turbotn(V, M, L_1)))\n",
    "\n",
    "\n",
    "v = np.array([0, 921, 945])\n",
    "M = v / 340\n",
    "\n",
    "# Учет влияния передней части корпуса\n",
    "\n",
    "\n",
    "def kappa_nos(L_1):\n",
    "    return 0.6 + 0.4 * (1 - np.exp(-0.5 * L_1 / d))\n",
    "\n",
    "\n",
    "def LL_hv(M, L_xv):\n",
    "    return L_xv / (np.pi / 2 * d * np.sqrt(M**2 - 1))\n",
    "\n",
    "\n",
    "def bb_delta(M, b_delta):\n",
    "    return b_delta / (np.pi / 2 * d * np.sqrt(M**2 - 1))\n",
    "\n",
    "\n",
    "def c(l_k, eta_k):\n",
    "    return (4 + 1 / eta_k) * (1 + 8 * DD(l_k)**2)\n",
    "\n",
    "# Интеграл вероятности Лапласа-Гаусса\n",
    "\n",
    "\n",
    "def Fi(x):\n",
    "    res = integrate.quad(lambda t: np.exp(-t**2 / 2), 0, x)\n",
    "    return 2 / (2 * np.pi)**0.5 * res[0]\n",
    "\n",
    "\n",
    "def F(M, l_k, eta_k, b_delta, L_hv):\n",
    "    return 1 - np.sqrt(np.pi) / (2 * bb_delta(M, b_delta) * np.sqrt(c(l_k, eta_k))) * (Fi((bb_delta(M, b_delta) + LL_hv(M, L_hv)) * np.sqrt(2 * c(l_k, eta_k))) - Fi(LL_hv(M, L_hv)*np.sqrt(2*c(l_k, eta_k))))\n",
    "\n",
    "\n",
    "# коэффициенты интерференции по углу атаки\n",
    "def K_aa(v, M, l_k, eta_k, b_delta, L_hv, L_1):\n",
    "    if M >= 1:\n",
    "        return (k_aazv(l_k, eta_k) + (K_aazv(l_k, eta_k) - k_aazv(l_k, eta_k)) * F(M, l_k, eta_k, b_delta, L_hv)) * kappa_p_s(v, M, l_k, eta_k, L_1) * get_kappa_M(M)['Result'] * kappa_nos(L_1)\n",
    "    else:\n",
    "        return K_aazv(l_k, eta_k) * kappa_p_s(v, M, l_k, eta_k, L_1) * get_kappa_M(M)['Result'] * kappa_nos(L_1)\n",
    "\n",
    "\n",
    "def k_aa(v, M, l_k, eta_k, L_1):\n",
    "    return k_aazv(l_k, eta_k) * kappa_p_s(v, M, l_k, eta_k, L_1) * get_kappa_M(M)['Result'] * kappa_nos(L_1)\n",
    "\n",
    "\n",
    "def K_delta0zv(v, M, l_k, eta_k, L_1):\n",
    "    return k_aa(v, M, l_k, eta_k, L_1)\n",
    "\n",
    "\n",
    "def k_delta0zv(v, M, l_k, eta_k, L_hv, L_1):\n",
    "    return k_aa(v, M, l_k, eta_k, L_1)**2 / K_aa(v, M, l_k, eta_k, L_hv, L_1)\n",
    "\n",
    "\n",
    "def kappa_p_s_delta(v, M, l_k, eta_k, L_1):\n",
    "    return (1 - DD(l_k) * (1 + deltadelta_turb(v, M, L_1))) * (1 - (eta_k - 1) / (eta_k + 1 - 2 * DD(l_k)) * DD(l_k) * (1 + deltadelta_turb(v, M, L_1))) / ((1 - DD(l_k)) * (1 - (eta_k - 1) / (eta_k + 1 - 2 * DD(l_k)) * DD(l_k)))\n",
    "\n",
    "\n",
    "def F_delta(M, l_k, eta_k, b_delta, L_hv):\n",
    "    if M > 1:\n",
    "        return F(M, l_k, eta_k, b_delta, L_hv)\n",
    "    else:\n",
    "        return 1\n",
    "\n",
    "\n",
    "def K_delta0(v, M, l_k, eta_k, b_delta, L_hv, L_1):\n",
    "    return (k_delta0zv(v, M, l_k, eta_k, b_delta, L_hv, L_1) + (K_delta0zv(v, M, l_k, eta_k, L_1) - k_delta0zv(v, M, l_k, eta_k, b_delta, L_hv, L_1)) * F_delta(M, l_k, eta_k, b_delta, L_hv)) * kappa_p_s_delta(v, M, l_k, eta_k, L_1) * get_kappa_M(M)['Result']\n",
    "\n",
    "\n",
    "def k_delta0(v, M, l_k, eta_k, b_delta, L_hv, L_1):\n",
    "    return k_delta0zv(v, M, l_k, eta_k, b_delta, L_hv, L_1) * kappa_p_s_delta(v, M, l_k, eta_k, L_1) * get_kappa_M(M)['Result']\n",
    "\n",
    "\n",
    "def F_1(M, l_k, eta_k, b_delta, L_hv):\n",
    "    return 1 - 1 / (c(l_k, eta_k) * bb_delta(M, b_delta)**2) * (np.exp(-c(l_k, eta_k) * LL_hv(M, L_hv)**2) - np.exp(-c(l_k, eta_k) * (bb_delta(M, b_delta) + LL_hv(M, L_hv))**2)) + np.sqrt(np.pi) / (bb_delta(M, b_delta) * np.sqrt(c(l_k, eta_k))) * Fi(LL_hv(M, L_hv) * np.sqrt(2 * c(l_k, eta_k)))\n",
    "\n",
    "\n"
   ]
  },
  {
   "cell_type": "markdown",
   "metadata": {},
   "source": [
    "## Производная коэффициента подъёмной силы ЛА по углу атаки"
   ]
  },
  {
   "cell_type": "code",
   "execution_count": 31,
   "metadata": {},
   "outputs": [
    {
     "name": "stdout",
     "output_type": "stream",
     "text": [
      "lambda_nos = 1.5271966527196652\n",
      "lambda_cil = 10.606694560669457\n"
     ]
    },
    {
     "data": {
      "text/plain": [
       "[2.0185301303863525, 3.0906121730804443, 3.065443992614746]"
      ]
     },
     "execution_count": 31,
     "metadata": {},
     "output_type": "execute_result"
    }
   ],
   "source": [
    "lambda_nos = l_gc / d\n",
    "lambda_cil = (l_sum - l_gc) / d\n",
    "print(\"lambda_nos =\", lambda_nos)\n",
    "print(\"lambda_cil =\", lambda_cil)\n",
    "# коэффициент подъёмной силы фюзеляжа\n",
    "Cyalf_OgiCil = [get_Cyalf_OgiCil(M[i], lambda_nos, lambda_cil)['Result'] for i in range(len(M))]\n",
    "# коэффициент подъёмной силы изолированного крыла\n",
    "Cyalf_OgiCil = [get_Cyalf_IsP(M[i], lambda_c_kr, cc_kr, chi_05_kr, eta_c_kr)['Result'] for i in range(len(M))]\n"
   ]
  }
 ],
 "metadata": {
  "kernelspec": {
   "display_name": "Python 3.9.6 64-bit",
   "language": "python",
   "name": "python3"
  },
  "language_info": {
   "codemirror_mode": {
    "name": "ipython",
    "version": 3
   },
   "file_extension": ".py",
   "mimetype": "text/x-python",
   "name": "python",
   "nbconvert_exporter": "python",
   "pygments_lexer": "ipython3",
   "version": "3.9.6"
  },
  "orig_nbformat": 4,
  "vscode": {
   "interpreter": {
    "hash": "8f8cf99212f81ad0c4765861267244807ee1c18364846cdce387b28994a977ba"
   }
  }
 },
 "nbformat": 4,
 "nbformat_minor": 2
}
